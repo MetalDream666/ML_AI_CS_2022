{
 "cells": [
  {
   "cell_type": "markdown",
   "id": "8192deef",
   "metadata": {},
   "source": [
    "## Зачетная работа по курсу «Машинное обучение и искусственный интеллект» ##"
   ]
  },
  {
   "cell_type": "markdown",
   "id": "0bd64558",
   "metadata": {},
   "source": [
    "#### Копикова Софья ####\n",
    "#### магистратура, 1 курс ####\n",
    "#### 525 группа ####"
   ]
  },
  {
   "cell_type": "code",
   "execution_count": 1,
   "id": "d9f7cad7",
   "metadata": {},
   "outputs": [],
   "source": [
    "import pandas as pd\n",
    "import numpy as np\n",
    "from numpy import inf\n",
    "from sklearn.preprocessing import StandardScaler\n",
    "from sklearn.model_selection import train_test_split\n",
    "from sklearn.metrics import mean_squared_error\n",
    "from sklearn.linear_model import LinearRegression"
   ]
  },
  {
   "cell_type": "markdown",
   "id": "8831b516",
   "metadata": {},
   "source": [
    "Ссылка на данные: https://archive.ics.uci.edu/ml/datasets/Forest+Fires\n",
    "\n",
    "В описании сказано: \"This is a very difficult regression task.\""
   ]
  },
  {
   "cell_type": "code",
   "execution_count": 2,
   "id": "8de86c5d",
   "metadata": {},
   "outputs": [
    {
     "data": {
      "text/html": [
       "<div>\n",
       "<style scoped>\n",
       "    .dataframe tbody tr th:only-of-type {\n",
       "        vertical-align: middle;\n",
       "    }\n",
       "\n",
       "    .dataframe tbody tr th {\n",
       "        vertical-align: top;\n",
       "    }\n",
       "\n",
       "    .dataframe thead th {\n",
       "        text-align: right;\n",
       "    }\n",
       "</style>\n",
       "<table border=\"1\" class=\"dataframe\">\n",
       "  <thead>\n",
       "    <tr style=\"text-align: right;\">\n",
       "      <th></th>\n",
       "      <th>X</th>\n",
       "      <th>Y</th>\n",
       "      <th>month</th>\n",
       "      <th>day</th>\n",
       "      <th>FFMC</th>\n",
       "      <th>DMC</th>\n",
       "      <th>DC</th>\n",
       "      <th>ISI</th>\n",
       "      <th>temp</th>\n",
       "      <th>RH</th>\n",
       "      <th>wind</th>\n",
       "      <th>rain</th>\n",
       "      <th>area</th>\n",
       "    </tr>\n",
       "  </thead>\n",
       "  <tbody>\n",
       "    <tr>\n",
       "      <th>0</th>\n",
       "      <td>7</td>\n",
       "      <td>5</td>\n",
       "      <td>mar</td>\n",
       "      <td>fri</td>\n",
       "      <td>86.2</td>\n",
       "      <td>26.2</td>\n",
       "      <td>94.3</td>\n",
       "      <td>5.1</td>\n",
       "      <td>8.2</td>\n",
       "      <td>51</td>\n",
       "      <td>6.7</td>\n",
       "      <td>0.0</td>\n",
       "      <td>0.0</td>\n",
       "    </tr>\n",
       "    <tr>\n",
       "      <th>1</th>\n",
       "      <td>7</td>\n",
       "      <td>4</td>\n",
       "      <td>oct</td>\n",
       "      <td>tue</td>\n",
       "      <td>90.6</td>\n",
       "      <td>35.4</td>\n",
       "      <td>669.1</td>\n",
       "      <td>6.7</td>\n",
       "      <td>18.0</td>\n",
       "      <td>33</td>\n",
       "      <td>0.9</td>\n",
       "      <td>0.0</td>\n",
       "      <td>0.0</td>\n",
       "    </tr>\n",
       "    <tr>\n",
       "      <th>2</th>\n",
       "      <td>7</td>\n",
       "      <td>4</td>\n",
       "      <td>oct</td>\n",
       "      <td>sat</td>\n",
       "      <td>90.6</td>\n",
       "      <td>43.7</td>\n",
       "      <td>686.9</td>\n",
       "      <td>6.7</td>\n",
       "      <td>14.6</td>\n",
       "      <td>33</td>\n",
       "      <td>1.3</td>\n",
       "      <td>0.0</td>\n",
       "      <td>0.0</td>\n",
       "    </tr>\n",
       "    <tr>\n",
       "      <th>3</th>\n",
       "      <td>8</td>\n",
       "      <td>6</td>\n",
       "      <td>mar</td>\n",
       "      <td>fri</td>\n",
       "      <td>91.7</td>\n",
       "      <td>33.3</td>\n",
       "      <td>77.5</td>\n",
       "      <td>9.0</td>\n",
       "      <td>8.3</td>\n",
       "      <td>97</td>\n",
       "      <td>4.0</td>\n",
       "      <td>0.2</td>\n",
       "      <td>0.0</td>\n",
       "    </tr>\n",
       "    <tr>\n",
       "      <th>4</th>\n",
       "      <td>8</td>\n",
       "      <td>6</td>\n",
       "      <td>mar</td>\n",
       "      <td>sun</td>\n",
       "      <td>89.3</td>\n",
       "      <td>51.3</td>\n",
       "      <td>102.2</td>\n",
       "      <td>9.6</td>\n",
       "      <td>11.4</td>\n",
       "      <td>99</td>\n",
       "      <td>1.8</td>\n",
       "      <td>0.0</td>\n",
       "      <td>0.0</td>\n",
       "    </tr>\n",
       "  </tbody>\n",
       "</table>\n",
       "</div>"
      ],
      "text/plain": [
       "   X  Y month  day  FFMC   DMC     DC  ISI  temp  RH  wind  rain  area\n",
       "0  7  5   mar  fri  86.2  26.2   94.3  5.1   8.2  51   6.7   0.0   0.0\n",
       "1  7  4   oct  tue  90.6  35.4  669.1  6.7  18.0  33   0.9   0.0   0.0\n",
       "2  7  4   oct  sat  90.6  43.7  686.9  6.7  14.6  33   1.3   0.0   0.0\n",
       "3  8  6   mar  fri  91.7  33.3   77.5  9.0   8.3  97   4.0   0.2   0.0\n",
       "4  8  6   mar  sun  89.3  51.3  102.2  9.6  11.4  99   1.8   0.0   0.0"
      ]
     },
     "execution_count": 2,
     "metadata": {},
     "output_type": "execute_result"
    }
   ],
   "source": [
    "# Загрузка данных\n",
    "file_path = 'forestfires.csv'\n",
    "df = pd.read_csv(file_path)\n",
    "df.head()"
   ]
  },
  {
   "cell_type": "code",
   "execution_count": 3,
   "id": "26514e1b",
   "metadata": {},
   "outputs": [],
   "source": [
    "y = df[\"area\"].to_frame()\n",
    "y = y.astype('float')\n",
    "X = df.loc[:, list(set(df.columns) - {\"area\"})]"
   ]
  },
  {
   "cell_type": "code",
   "execution_count": 4,
   "id": "b9ffeb55",
   "metadata": {},
   "outputs": [],
   "source": [
    "def do_replace(X):\n",
    "    ans = X.replace([\"jan\", \"feb\", \"mar\", \"apr\", \"may\", \"jun\", \"jul\", \"aug\", \"sep\", \"oct\", \"nov\", \"dec\"], \n",
    "                    [ 0,     1,     2,     3,     4,     5,     6,     7,     8,     9,     10,    11])\n",
    "    \n",
    "    ans = ans.replace([\"mon\", \"tue\", \"wed\", \"thu\", \"fri\", \"sat\", \"sun\"], \n",
    "                      [ 0,     1,     2,     3,     4,     5,     6])\n",
    "    \n",
    "    return ans"
   ]
  },
  {
   "cell_type": "code",
   "execution_count": 5,
   "id": "59d6a80b",
   "metadata": {},
   "outputs": [],
   "source": [
    "X = do_replace(X)\n",
    "X = X.astype('float')"
   ]
  },
  {
   "cell_type": "code",
   "execution_count": 6,
   "id": "b3e41ab2",
   "metadata": {},
   "outputs": [
    {
     "data": {
      "text/html": [
       "<div>\n",
       "<style scoped>\n",
       "    .dataframe tbody tr th:only-of-type {\n",
       "        vertical-align: middle;\n",
       "    }\n",
       "\n",
       "    .dataframe tbody tr th {\n",
       "        vertical-align: top;\n",
       "    }\n",
       "\n",
       "    .dataframe thead th {\n",
       "        text-align: right;\n",
       "    }\n",
       "</style>\n",
       "<table border=\"1\" class=\"dataframe\">\n",
       "  <thead>\n",
       "    <tr style=\"text-align: right;\">\n",
       "      <th></th>\n",
       "      <th>X</th>\n",
       "      <th>rain</th>\n",
       "      <th>month</th>\n",
       "      <th>DC</th>\n",
       "      <th>wind</th>\n",
       "      <th>ISI</th>\n",
       "      <th>Y</th>\n",
       "      <th>day</th>\n",
       "      <th>RH</th>\n",
       "      <th>temp</th>\n",
       "      <th>FFMC</th>\n",
       "      <th>DMC</th>\n",
       "    </tr>\n",
       "  </thead>\n",
       "  <tbody>\n",
       "    <tr>\n",
       "      <th>0</th>\n",
       "      <td>7.0</td>\n",
       "      <td>0.0</td>\n",
       "      <td>2.0</td>\n",
       "      <td>94.3</td>\n",
       "      <td>6.7</td>\n",
       "      <td>5.1</td>\n",
       "      <td>5.0</td>\n",
       "      <td>4.0</td>\n",
       "      <td>51.0</td>\n",
       "      <td>8.2</td>\n",
       "      <td>86.2</td>\n",
       "      <td>26.2</td>\n",
       "    </tr>\n",
       "    <tr>\n",
       "      <th>1</th>\n",
       "      <td>7.0</td>\n",
       "      <td>0.0</td>\n",
       "      <td>9.0</td>\n",
       "      <td>669.1</td>\n",
       "      <td>0.9</td>\n",
       "      <td>6.7</td>\n",
       "      <td>4.0</td>\n",
       "      <td>1.0</td>\n",
       "      <td>33.0</td>\n",
       "      <td>18.0</td>\n",
       "      <td>90.6</td>\n",
       "      <td>35.4</td>\n",
       "    </tr>\n",
       "    <tr>\n",
       "      <th>2</th>\n",
       "      <td>7.0</td>\n",
       "      <td>0.0</td>\n",
       "      <td>9.0</td>\n",
       "      <td>686.9</td>\n",
       "      <td>1.3</td>\n",
       "      <td>6.7</td>\n",
       "      <td>4.0</td>\n",
       "      <td>5.0</td>\n",
       "      <td>33.0</td>\n",
       "      <td>14.6</td>\n",
       "      <td>90.6</td>\n",
       "      <td>43.7</td>\n",
       "    </tr>\n",
       "    <tr>\n",
       "      <th>3</th>\n",
       "      <td>8.0</td>\n",
       "      <td>0.2</td>\n",
       "      <td>2.0</td>\n",
       "      <td>77.5</td>\n",
       "      <td>4.0</td>\n",
       "      <td>9.0</td>\n",
       "      <td>6.0</td>\n",
       "      <td>4.0</td>\n",
       "      <td>97.0</td>\n",
       "      <td>8.3</td>\n",
       "      <td>91.7</td>\n",
       "      <td>33.3</td>\n",
       "    </tr>\n",
       "    <tr>\n",
       "      <th>4</th>\n",
       "      <td>8.0</td>\n",
       "      <td>0.0</td>\n",
       "      <td>2.0</td>\n",
       "      <td>102.2</td>\n",
       "      <td>1.8</td>\n",
       "      <td>9.6</td>\n",
       "      <td>6.0</td>\n",
       "      <td>6.0</td>\n",
       "      <td>99.0</td>\n",
       "      <td>11.4</td>\n",
       "      <td>89.3</td>\n",
       "      <td>51.3</td>\n",
       "    </tr>\n",
       "    <tr>\n",
       "      <th>...</th>\n",
       "      <td>...</td>\n",
       "      <td>...</td>\n",
       "      <td>...</td>\n",
       "      <td>...</td>\n",
       "      <td>...</td>\n",
       "      <td>...</td>\n",
       "      <td>...</td>\n",
       "      <td>...</td>\n",
       "      <td>...</td>\n",
       "      <td>...</td>\n",
       "      <td>...</td>\n",
       "      <td>...</td>\n",
       "    </tr>\n",
       "    <tr>\n",
       "      <th>512</th>\n",
       "      <td>4.0</td>\n",
       "      <td>0.0</td>\n",
       "      <td>7.0</td>\n",
       "      <td>665.6</td>\n",
       "      <td>2.7</td>\n",
       "      <td>1.9</td>\n",
       "      <td>3.0</td>\n",
       "      <td>6.0</td>\n",
       "      <td>32.0</td>\n",
       "      <td>27.8</td>\n",
       "      <td>81.6</td>\n",
       "      <td>56.7</td>\n",
       "    </tr>\n",
       "    <tr>\n",
       "      <th>513</th>\n",
       "      <td>2.0</td>\n",
       "      <td>0.0</td>\n",
       "      <td>7.0</td>\n",
       "      <td>665.6</td>\n",
       "      <td>5.8</td>\n",
       "      <td>1.9</td>\n",
       "      <td>4.0</td>\n",
       "      <td>6.0</td>\n",
       "      <td>71.0</td>\n",
       "      <td>21.9</td>\n",
       "      <td>81.6</td>\n",
       "      <td>56.7</td>\n",
       "    </tr>\n",
       "    <tr>\n",
       "      <th>514</th>\n",
       "      <td>7.0</td>\n",
       "      <td>0.0</td>\n",
       "      <td>7.0</td>\n",
       "      <td>665.6</td>\n",
       "      <td>6.7</td>\n",
       "      <td>1.9</td>\n",
       "      <td>4.0</td>\n",
       "      <td>6.0</td>\n",
       "      <td>70.0</td>\n",
       "      <td>21.2</td>\n",
       "      <td>81.6</td>\n",
       "      <td>56.7</td>\n",
       "    </tr>\n",
       "    <tr>\n",
       "      <th>515</th>\n",
       "      <td>1.0</td>\n",
       "      <td>0.0</td>\n",
       "      <td>7.0</td>\n",
       "      <td>614.7</td>\n",
       "      <td>4.0</td>\n",
       "      <td>11.3</td>\n",
       "      <td>4.0</td>\n",
       "      <td>5.0</td>\n",
       "      <td>42.0</td>\n",
       "      <td>25.6</td>\n",
       "      <td>94.4</td>\n",
       "      <td>146.0</td>\n",
       "    </tr>\n",
       "    <tr>\n",
       "      <th>516</th>\n",
       "      <td>6.0</td>\n",
       "      <td>0.0</td>\n",
       "      <td>10.0</td>\n",
       "      <td>106.7</td>\n",
       "      <td>4.5</td>\n",
       "      <td>1.1</td>\n",
       "      <td>3.0</td>\n",
       "      <td>1.0</td>\n",
       "      <td>31.0</td>\n",
       "      <td>11.8</td>\n",
       "      <td>79.5</td>\n",
       "      <td>3.0</td>\n",
       "    </tr>\n",
       "  </tbody>\n",
       "</table>\n",
       "<p>517 rows × 12 columns</p>\n",
       "</div>"
      ],
      "text/plain": [
       "       X  rain  month     DC  wind   ISI    Y  day    RH  temp  FFMC    DMC\n",
       "0    7.0   0.0    2.0   94.3   6.7   5.1  5.0  4.0  51.0   8.2  86.2   26.2\n",
       "1    7.0   0.0    9.0  669.1   0.9   6.7  4.0  1.0  33.0  18.0  90.6   35.4\n",
       "2    7.0   0.0    9.0  686.9   1.3   6.7  4.0  5.0  33.0  14.6  90.6   43.7\n",
       "3    8.0   0.2    2.0   77.5   4.0   9.0  6.0  4.0  97.0   8.3  91.7   33.3\n",
       "4    8.0   0.0    2.0  102.2   1.8   9.6  6.0  6.0  99.0  11.4  89.3   51.3\n",
       "..   ...   ...    ...    ...   ...   ...  ...  ...   ...   ...   ...    ...\n",
       "512  4.0   0.0    7.0  665.6   2.7   1.9  3.0  6.0  32.0  27.8  81.6   56.7\n",
       "513  2.0   0.0    7.0  665.6   5.8   1.9  4.0  6.0  71.0  21.9  81.6   56.7\n",
       "514  7.0   0.0    7.0  665.6   6.7   1.9  4.0  6.0  70.0  21.2  81.6   56.7\n",
       "515  1.0   0.0    7.0  614.7   4.0  11.3  4.0  5.0  42.0  25.6  94.4  146.0\n",
       "516  6.0   0.0   10.0  106.7   4.5   1.1  3.0  1.0  31.0  11.8  79.5    3.0\n",
       "\n",
       "[517 rows x 12 columns]"
      ]
     },
     "execution_count": 6,
     "metadata": {},
     "output_type": "execute_result"
    }
   ],
   "source": [
    "X"
   ]
  },
  {
   "cell_type": "code",
   "execution_count": 7,
   "id": "8d8e0d29",
   "metadata": {},
   "outputs": [],
   "source": [
    "X = np.array(X)\n",
    "y = np.array(y)"
   ]
  },
  {
   "cell_type": "code",
   "execution_count": 8,
   "id": "66f49056",
   "metadata": {},
   "outputs": [
    {
     "data": {
      "text/plain": [
       "array([[  7. ,   0. ,   2. , ...,   8.2,  86.2,  26.2],\n",
       "       [  7. ,   0. ,   9. , ...,  18. ,  90.6,  35.4],\n",
       "       [  7. ,   0. ,   9. , ...,  14.6,  90.6,  43.7],\n",
       "       ...,\n",
       "       [  7. ,   0. ,   7. , ...,  21.2,  81.6,  56.7],\n",
       "       [  1. ,   0. ,   7. , ...,  25.6,  94.4, 146. ],\n",
       "       [  6. ,   0. ,  10. , ...,  11.8,  79.5,   3. ]])"
      ]
     },
     "execution_count": 8,
     "metadata": {},
     "output_type": "execute_result"
    }
   ],
   "source": [
    "X"
   ]
  },
  {
   "cell_type": "code",
   "execution_count": null,
   "id": "e4376321",
   "metadata": {},
   "outputs": [],
   "source": []
  },
  {
   "cell_type": "code",
   "execution_count": 9,
   "id": "2fb784ea",
   "metadata": {},
   "outputs": [],
   "source": [
    "from sklearn.base import BaseEstimator, ClassifierMixin\n",
    "\n",
    "class MyLinearRegression(BaseEstimator, ClassifierMixin):\n",
    "    \n",
    "    def __init__(self):\n",
    "        pass\n",
    "        \n",
    "    \n",
    "    def fit(self, X, y):        \n",
    "        self.weights_matrix = np.dot(np.dot(np.linalg.inv(np.dot(X.T, X)), X.T), y)\n",
    "        print(\"weights_matrix.shape: \", self.weights_matrix.shape)\n",
    "                \n",
    "        return self\n",
    "        \n",
    "    def predict(self, X):\n",
    "        print(\"X.shape: \", X.shape)\n",
    "        # X = np.hstack([np.ones((X.shape[0], 1)), X])\n",
    "        y_hat = np.dot(X, self.weights_matrix)\n",
    "        \n",
    "        return y_hat"
   ]
  },
  {
   "cell_type": "code",
   "execution_count": null,
   "id": "16215a1f",
   "metadata": {},
   "outputs": [],
   "source": []
  },
  {
   "cell_type": "code",
   "execution_count": 10,
   "id": "14908eeb",
   "metadata": {},
   "outputs": [],
   "source": [
    "# В бой!"
   ]
  },
  {
   "cell_type": "code",
   "execution_count": 11,
   "id": "bf084919",
   "metadata": {},
   "outputs": [
    {
     "name": "stdout",
     "output_type": "stream",
     "text": [
      "weights_matrix.shape:  (12,)\n"
     ]
    },
    {
     "data": {
      "text/plain": [
       "MyLinearRegression()"
      ]
     },
     "execution_count": 11,
     "metadata": {},
     "output_type": "execute_result"
    }
   ],
   "source": [
    "X_train, X_test, y_train, y_test = train_test_split(X, y.flatten(), test_size=0.15, random_state=0)\n",
    "scaler = StandardScaler()\n",
    "X_train = scaler.fit_transform(X_train, y_train)\n",
    "my_reg = MyLinearRegression()\n",
    "my_reg.fit(X_train, y_train)"
   ]
  },
  {
   "cell_type": "code",
   "execution_count": 12,
   "id": "f9876857",
   "metadata": {},
   "outputs": [
    {
     "name": "stdout",
     "output_type": "stream",
     "text": [
      "X.shape:  (78, 12)\n"
     ]
    }
   ],
   "source": [
    "y_pred = my_reg.predict(X_test)"
   ]
  },
  {
   "cell_type": "code",
   "execution_count": 13,
   "id": "247d23bb",
   "metadata": {},
   "outputs": [
    {
     "name": "stdout",
     "output_type": "stream",
     "text": [
      "TEST MSE: 3495.696694\n"
     ]
    }
   ],
   "source": [
    "print(\"TEST MSE: {:f}\".format(mean_squared_error(y_test, y_pred, squared=False)))"
   ]
  },
  {
   "cell_type": "code",
   "execution_count": 14,
   "id": "1a80dbe3",
   "metadata": {},
   "outputs": [],
   "source": [
    "# Кошмарная ошибка. А что скажет sklearn?"
   ]
  },
  {
   "cell_type": "code",
   "execution_count": 15,
   "id": "e376808e",
   "metadata": {},
   "outputs": [
    {
     "data": {
      "text/plain": [
       "LinearRegression()"
      ]
     },
     "execution_count": 15,
     "metadata": {},
     "output_type": "execute_result"
    }
   ],
   "source": [
    "X_train, X_test, y_train, y_test = train_test_split(X, y.flatten(), test_size=0.15, random_state=0)\n",
    "scaler = StandardScaler()\n",
    "X_train = scaler.fit_transform(X_train, y_train)\n",
    "reg = LinearRegression()\n",
    "reg.fit(X_train, y_train)"
   ]
  },
  {
   "cell_type": "code",
   "execution_count": 16,
   "id": "c68d1ade",
   "metadata": {},
   "outputs": [
    {
     "name": "stdout",
     "output_type": "stream",
     "text": [
      "X.shape:  (78, 12)\n",
      "TEST MSE: 3495.696694\n"
     ]
    }
   ],
   "source": [
    "y_pred = my_reg.predict(X_test)\n",
    "print(\"TEST MSE: {:f}\".format(mean_squared_error(y_test, y_pred, squared=False)))"
   ]
  },
  {
   "cell_type": "code",
   "execution_count": 17,
   "id": "1f931bad",
   "metadata": {},
   "outputs": [],
   "source": [
    "# Ахаха. По крайней мере, я совпадаю с sklearn'ом, что уже хорошо"
   ]
  },
  {
   "cell_type": "code",
   "execution_count": null,
   "id": "2bdead74",
   "metadata": {},
   "outputs": [],
   "source": []
  },
  {
   "cell_type": "code",
   "execution_count": 18,
   "id": "5c8de3fc",
   "metadata": {},
   "outputs": [],
   "source": [
    "# Применим к X логарифмическое преобразование, \n",
    "# как это рекомендуется в описании датасета\n",
    "\n",
    "# СПОЙЛЕР! Это даст лучший результат"
   ]
  },
  {
   "cell_type": "code",
   "execution_count": 19,
   "id": "44c83f40",
   "metadata": {},
   "outputs": [
    {
     "name": "stderr",
     "output_type": "stream",
     "text": [
      "/home/sofia/miniconda3/lib/python3.7/site-packages/ipykernel_launcher.py:1: RuntimeWarning: divide by zero encountered in log\n",
      "  \"\"\"Entry point for launching an IPython kernel.\n"
     ]
    }
   ],
   "source": [
    "X_log = np.log(X)\n",
    "X_train, X_test, y_train, y_test = train_test_split(X_log, y.flatten(), test_size=0.15, random_state=0)\n",
    "X_train[X_train == -inf] = 0\n",
    "X_test[X_test == -inf] = 0"
   ]
  },
  {
   "cell_type": "code",
   "execution_count": 20,
   "id": "ae9633d4",
   "metadata": {},
   "outputs": [
    {
     "name": "stdout",
     "output_type": "stream",
     "text": [
      "weights_matrix.shape:  (12,)\n"
     ]
    },
    {
     "data": {
      "text/plain": [
       "MyLinearRegression()"
      ]
     },
     "execution_count": 20,
     "metadata": {},
     "output_type": "execute_result"
    }
   ],
   "source": [
    "scaler = StandardScaler()\n",
    "X_train = scaler.fit_transform(X_train, y_train)\n",
    "my_reg = MyLinearRegression()\n",
    "my_reg.fit(X_train, y_train)"
   ]
  },
  {
   "cell_type": "code",
   "execution_count": 21,
   "id": "b1567a9a",
   "metadata": {},
   "outputs": [
    {
     "name": "stdout",
     "output_type": "stream",
     "text": [
      "X.shape:  (78, 12)\n",
      "TEST MSE: 131.023238\n"
     ]
    }
   ],
   "source": [
    "y_pred = my_reg.predict(X_test)\n",
    "print(\"TEST MSE: {:f}\".format(mean_squared_error(y_test, y_pred, squared=False)))"
   ]
  },
  {
   "cell_type": "code",
   "execution_count": null,
   "id": "04f352e2",
   "metadata": {},
   "outputs": [],
   "source": []
  },
  {
   "cell_type": "code",
   "execution_count": 22,
   "id": "d1408240",
   "metadata": {},
   "outputs": [],
   "source": [
    "# О, стало лучше. А если объединить признаки X и X_log?"
   ]
  },
  {
   "cell_type": "code",
   "execution_count": 23,
   "id": "a81d8948",
   "metadata": {},
   "outputs": [],
   "source": [
    "X_max = np.concatenate((X, X_log), axis=1)\n",
    "X_train, X_test, y_train, y_test = train_test_split(X_max, y.flatten(), test_size=0.15, random_state=0)\n",
    "X_train[X_train == -inf] = 0\n",
    "X_test[X_test == -inf] = 0"
   ]
  },
  {
   "cell_type": "code",
   "execution_count": 24,
   "id": "11c8e4e8",
   "metadata": {},
   "outputs": [
    {
     "name": "stdout",
     "output_type": "stream",
     "text": [
      "weights_matrix.shape:  (24,)\n"
     ]
    },
    {
     "data": {
      "text/plain": [
       "MyLinearRegression()"
      ]
     },
     "execution_count": 24,
     "metadata": {},
     "output_type": "execute_result"
    }
   ],
   "source": [
    "scaler = StandardScaler()\n",
    "X_train = scaler.fit_transform(X_train, y_train)\n",
    "my_reg = MyLinearRegression()\n",
    "my_reg.fit(X_train, y_train)"
   ]
  },
  {
   "cell_type": "code",
   "execution_count": 25,
   "id": "06f52a55",
   "metadata": {},
   "outputs": [
    {
     "name": "stdout",
     "output_type": "stream",
     "text": [
      "X.shape:  (78, 24)\n",
      "TEST MSE: 1427.542262\n"
     ]
    }
   ],
   "source": [
    "y_pred = my_reg.predict(X_test)\n",
    "print(\"TEST MSE: {:f}\".format(mean_squared_error(y_test, y_pred, squared=False)))"
   ]
  },
  {
   "cell_type": "code",
   "execution_count": 26,
   "id": "202d494c",
   "metadata": {},
   "outputs": [],
   "source": [
    "# Не очень-то и хотелось"
   ]
  },
  {
   "cell_type": "code",
   "execution_count": null,
   "id": "0f0b7e79",
   "metadata": {},
   "outputs": [],
   "source": []
  },
  {
   "cell_type": "code",
   "execution_count": 27,
   "id": "fde3e8a4",
   "metadata": {},
   "outputs": [],
   "source": [
    "# Проверяем мою регрессию на искусственном датасете, чтобы убедиться,\n",
    "# что мой датасет действительно сложный"
   ]
  },
  {
   "cell_type": "code",
   "execution_count": 28,
   "id": "6a7ad574",
   "metadata": {},
   "outputs": [],
   "source": [
    "from sklearn.datasets import make_regression\n",
    "X_art, y_art = make_regression(n_samples=500, n_features=12)"
   ]
  },
  {
   "cell_type": "code",
   "execution_count": 29,
   "id": "8ef43c09",
   "metadata": {},
   "outputs": [],
   "source": [
    "X_train, X_test, y_train, y_test = train_test_split(X_art, y_art, test_size=0.15, random_state=0)"
   ]
  },
  {
   "cell_type": "code",
   "execution_count": 30,
   "id": "416f3bb6",
   "metadata": {},
   "outputs": [
    {
     "name": "stdout",
     "output_type": "stream",
     "text": [
      "weights_matrix.shape:  (12,)\n"
     ]
    },
    {
     "data": {
      "text/plain": [
       "MyLinearRegression()"
      ]
     },
     "execution_count": 30,
     "metadata": {},
     "output_type": "execute_result"
    }
   ],
   "source": [
    "scaler = StandardScaler()\n",
    "X_train = scaler.fit_transform(X_train, y_train)\n",
    "my_reg = MyLinearRegression()\n",
    "my_reg.fit(X_train, y_train)"
   ]
  },
  {
   "cell_type": "code",
   "execution_count": 31,
   "id": "912f17dd",
   "metadata": {},
   "outputs": [
    {
     "name": "stdout",
     "output_type": "stream",
     "text": [
      "X.shape:  (75, 12)\n",
      "TEST MSE: 17.470858\n"
     ]
    }
   ],
   "source": [
    "y_pred = my_reg.predict(X_test)\n",
    "print(\"TEST MSE: {:f}\".format(mean_squared_error(y_test, y_pred)))"
   ]
  },
  {
   "cell_type": "code",
   "execution_count": null,
   "id": "7e33bf5d",
   "metadata": {},
   "outputs": [],
   "source": []
  },
  {
   "cell_type": "code",
   "execution_count": null,
   "id": "5f9e94e1",
   "metadata": {},
   "outputs": [],
   "source": []
  },
  {
   "cell_type": "code",
   "execution_count": null,
   "id": "9cd81c87",
   "metadata": {},
   "outputs": [],
   "source": []
  },
  {
   "cell_type": "code",
   "execution_count": null,
   "id": "485e7720",
   "metadata": {},
   "outputs": [],
   "source": []
  },
  {
   "cell_type": "code",
   "execution_count": null,
   "id": "0b72d7da",
   "metadata": {},
   "outputs": [],
   "source": []
  }
 ],
 "metadata": {
  "kernelspec": {
   "display_name": "Python 3 (ipykernel)",
   "language": "python",
   "name": "python3"
  },
  "language_info": {
   "codemirror_mode": {
    "name": "ipython",
    "version": 3
   },
   "file_extension": ".py",
   "mimetype": "text/x-python",
   "name": "python",
   "nbconvert_exporter": "python",
   "pygments_lexer": "ipython3",
   "version": "3.7.4"
  }
 },
 "nbformat": 4,
 "nbformat_minor": 5
}
